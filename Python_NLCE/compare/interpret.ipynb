{
 "cells": [
  {
   "cell_type": "code",
   "execution_count": 1,
   "metadata": {
    "collapsed": true
   },
   "outputs": [],
   "source": [
    "import numpy as np\n",
    "import json"
   ]
  },
  {
   "cell_type": "code",
   "execution_count": 2,
   "metadata": {},
   "outputs": [
    {
     "name": "stdout",
     "output_type": "stream",
     "text": [
      "1 1\n",
      "2 1\n",
      "3 2\n",
      "4 5\n",
      "5 12\n",
      "6 35\n",
      "7 108\n",
      "8 369\n",
      "9 1285\n",
      "10 4655\n",
      "11 17073\n",
      "12 63600\n"
     ]
    }
   ],
   "source": [
    "subgraph_keys = []\n",
    "for order in range(1,13):\n",
    "    file  = open('SymmOrdrdGraphs_Istrpc_Square_%d.txt' % order, 'w')\n",
    "    filem = open('SymmOrdrdMulti_Istrpc_Square_%d.txt' % order, 'w')\n",
    "    files = open('SymmOrdrdSubgraph_Info_Istrpc_Square_%d.txt' % order, 'w')\n",
    "    filet = open('SymmOrdrdTopo_Info_Istrpc_Square_%d.txt' % order, 'w')\n",
    "    f = open('graph_bond_square_%d.json' % order)\n",
    "    fm = open('graph_mult_square_%d.json' % order)\n",
    "    fs = open('subgraph_mult_square_%d.json' % order)\n",
    "    data = json.load(f)\n",
    "    print(order, len(data))\n",
    "    mult = json.load(fm)\n",
    "    subg = json.load(fs)\n",
    "    file.write('%d\\n' % len(data))\n",
    "\n",
    "    subgraph_keys.append(list(data.keys()))\n",
    "    ntopo = 0\n",
    "    topolist = []\n",
    "    for key in subgraph_keys[-1]:\n",
    "        files.write('%s\\n' % key)\n",
    "        skeys = subg[key].keys()\n",
    "        files.write('%d\\n' % (len(skeys)-1))\n",
    "        for skey in skeys:\n",
    "            for sorder in range(2,order):\n",
    "                try:\n",
    "                    sub_top_id = subgraph_keys[sorder-1].index(skey)+1\n",
    "                    files.write('%d %d %d\\n' % (subg[key][skey][0],subg[key][skey][1],sub_top_id))\n",
    "                    break\n",
    "                except:\n",
    "                    continue\n",
    "        \n",
    "        filem.write('%d\\n' % mult[key])\n",
    "        #L = len(data[key][1])\n",
    "        file.write(key+'\\n')\n",
    "        for i in range(order):\n",
    "            file.write('%d  %d\\n' % (data[key][0][i][0],data[key][0][i][1]))\n",
    "        #file.write('%d\\n' % L)\n",
    "        #for i in range(L):\n",
    "        #    file.write('%d  %d  %d\\n' % (data[key][1][i][0],data[key][1][i][1],data[key][1][i][2]))\n",
    "        if data[key][1] not in topolist:\n",
    "            ntopo += 1\n",
    "            topolist.append(data[key][1])\n",
    "            filet.write('%d\\n' % ntopo)\n",
    "        else:\n",
    "            filet.write('%d\\n' % (topolist.index(data[key][1])+1))\n",
    "    file.close()\n",
    "    filem.close()\n",
    "    files.close()\n",
    "    filet.close()"
   ]
  },
  {
   "cell_type": "code",
   "execution_count": null,
   "metadata": {
    "collapsed": true
   },
   "outputs": [],
   "source": []
  }
 ],
 "metadata": {
  "kernelspec": {
   "display_name": "Python 3",
   "language": "python",
   "name": "python3"
  },
  "language_info": {
   "codemirror_mode": {
    "name": "ipython",
    "version": 3
   },
   "file_extension": ".py",
   "mimetype": "text/x-python",
   "name": "python",
   "nbconvert_exporter": "python",
   "pygments_lexer": "ipython3",
   "version": "3.4.3"
  }
 },
 "nbformat": 4,
 "nbformat_minor": 2
}
